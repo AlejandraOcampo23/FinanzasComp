{
  "cells": [
    {
      "cell_type": "markdown",
      "metadata": {
        "id": "view-in-github",
        "colab_type": "text"
      },
      "source": [
        "<a href=\"https://colab.research.google.com/github/AlejandraOcampo23/FinanzasComp/blob/main/Taller_final%E2%80%94_Bohorquez%2C_Malagon%2C_Ocampo.ipynb\" target=\"_parent\"><img src=\"https://colab.research.google.com/assets/colab-badge.svg\" alt=\"Open In Colab\"/></a>"
      ]
    },
    {
      "cell_type": "code",
      "execution_count": 2,
      "metadata": {
        "id": "vNjo0XsQIhpe"
      },
      "outputs": [],
      "source": [
        "#Carlos Bohorquez, Valentina Malagon, Alejandra Ocampo "
      ]
    },
    {
      "cell_type": "code",
      "execution_count": 4,
      "metadata": {
        "colab": {
          "base_uri": "https://localhost:8080/"
        },
        "id": "0-4IfJ4I6EsG",
        "outputId": "2a7f38c8-bb2b-4179-cc3a-3d7367326c80"
      },
      "outputs": [
        {
          "output_type": "stream",
          "name": "stdout",
          "text": [
            "Looking in indexes: https://pypi.org/simple, https://us-python.pkg.dev/colab-wheels/public/simple/\n",
            "Requirement already satisfied: yfinance in /usr/local/lib/python3.7/dist-packages (0.1.87)\n",
            "Requirement already satisfied: pandas>=0.24.0 in /usr/local/lib/python3.7/dist-packages (from yfinance) (1.3.5)\n",
            "Requirement already satisfied: multitasking>=0.0.7 in /usr/local/lib/python3.7/dist-packages (from yfinance) (0.0.11)\n",
            "Requirement already satisfied: numpy>=1.15 in /usr/local/lib/python3.7/dist-packages (from yfinance) (1.21.6)\n",
            "Requirement already satisfied: appdirs>=1.4.4 in /usr/local/lib/python3.7/dist-packages (from yfinance) (1.4.4)\n",
            "Requirement already satisfied: requests>=2.26 in /usr/local/lib/python3.7/dist-packages (from yfinance) (2.28.1)\n",
            "Requirement already satisfied: lxml>=4.5.1 in /usr/local/lib/python3.7/dist-packages (from yfinance) (4.9.1)\n",
            "Requirement already satisfied: pytz>=2017.3 in /usr/local/lib/python3.7/dist-packages (from pandas>=0.24.0->yfinance) (2022.6)\n",
            "Requirement already satisfied: python-dateutil>=2.7.3 in /usr/local/lib/python3.7/dist-packages (from pandas>=0.24.0->yfinance) (2.8.2)\n",
            "Requirement already satisfied: six>=1.5 in /usr/local/lib/python3.7/dist-packages (from python-dateutil>=2.7.3->pandas>=0.24.0->yfinance) (1.15.0)\n",
            "Requirement already satisfied: urllib3<1.27,>=1.21.1 in /usr/local/lib/python3.7/dist-packages (from requests>=2.26->yfinance) (1.24.3)\n",
            "Requirement already satisfied: certifi>=2017.4.17 in /usr/local/lib/python3.7/dist-packages (from requests>=2.26->yfinance) (2022.9.24)\n",
            "Requirement already satisfied: charset-normalizer<3,>=2 in /usr/local/lib/python3.7/dist-packages (from requests>=2.26->yfinance) (2.1.1)\n",
            "Requirement already satisfied: idna<4,>=2.5 in /usr/local/lib/python3.7/dist-packages (from requests>=2.26->yfinance) (2.10)\n",
            "Looking in indexes: https://pypi.org/simple, https://us-python.pkg.dev/colab-wheels/public/simple/\n",
            "Requirement already satisfied: fitter in /usr/local/lib/python3.7/dist-packages (1.5.1)\n",
            "Requirement already satisfied: matplotlib in /usr/local/lib/python3.7/dist-packages (from fitter) (3.2.2)\n",
            "Requirement already satisfied: scipy>=0.18 in /usr/local/lib/python3.7/dist-packages (from fitter) (1.7.3)\n",
            "Requirement already satisfied: numpy in /usr/local/lib/python3.7/dist-packages (from fitter) (1.21.6)\n",
            "Requirement already satisfied: joblib in /usr/local/lib/python3.7/dist-packages (from fitter) (1.2.0)\n",
            "Requirement already satisfied: click in /usr/local/lib/python3.7/dist-packages (from fitter) (7.1.2)\n",
            "Requirement already satisfied: pandas in /usr/local/lib/python3.7/dist-packages (from fitter) (1.3.5)\n",
            "Requirement already satisfied: tqdm in /usr/local/lib/python3.7/dist-packages (from fitter) (4.64.1)\n",
            "Requirement already satisfied: kiwisolver>=1.0.1 in /usr/local/lib/python3.7/dist-packages (from matplotlib->fitter) (1.4.4)\n",
            "Requirement already satisfied: pyparsing!=2.0.4,!=2.1.2,!=2.1.6,>=2.0.1 in /usr/local/lib/python3.7/dist-packages (from matplotlib->fitter) (3.0.9)\n",
            "Requirement already satisfied: python-dateutil>=2.1 in /usr/local/lib/python3.7/dist-packages (from matplotlib->fitter) (2.8.2)\n",
            "Requirement already satisfied: cycler>=0.10 in /usr/local/lib/python3.7/dist-packages (from matplotlib->fitter) (0.11.0)\n",
            "Requirement already satisfied: typing-extensions in /usr/local/lib/python3.7/dist-packages (from kiwisolver>=1.0.1->matplotlib->fitter) (4.1.1)\n",
            "Requirement already satisfied: six>=1.5 in /usr/local/lib/python3.7/dist-packages (from python-dateutil>=2.1->matplotlib->fitter) (1.15.0)\n",
            "Requirement already satisfied: pytz>=2017.3 in /usr/local/lib/python3.7/dist-packages (from pandas->fitter) (2022.6)\n"
          ]
        }
      ],
      "source": [
        "import pandas as pd \n",
        "import numpy as np \n",
        "import seaborn as sns\n",
        "import scipy.stats\n",
        "import statsmodels.api as sm\n",
        "from statsmodels.tsa.api import acf, pacf, graphics\n",
        "from statsmodels.graphics.tsaplots import plot_acf\n",
        "from statsmodels.tsa.stattools import adfuller\n",
        "from statsmodels.tsa.arima.model import ARIMA\n",
        "import pylab as py\n",
        "from scipy.stats import norm\n",
        "from scipy.stats import chi2\n",
        "from scipy import stats\n",
        "from scipy.optimize import linprog\n",
        "import inspect\n",
        "from statsmodels.distributions.empirical_distribution import ECDF\n",
        "import matplotlib.pyplot as plt\n",
        "import warnings\n",
        "import cvxpy as cp\n",
        "warnings.simplefilter(\"ignore\")\n",
        "!pip install yfinance\n",
        "import yfinance as yf\n",
        "from scipy.optimize import minimize\n",
        "!pip install fitter\n",
        "from fitter import Fitter, get_common_distributions, get_distributions"
      ]
    },
    {
      "cell_type": "code",
      "execution_count": 5,
      "metadata": {
        "colab": {
          "base_uri": "https://localhost:8080/"
        },
        "id": "3Hez_yT9V4o-",
        "outputId": "02b06577-10d7-495e-98a5-be1e6d657aa7"
      },
      "outputs": [
        {
          "output_type": "stream",
          "name": "stdout",
          "text": [
            "\r[*********************100%***********************]  1 of 1 completed\n"
          ]
        },
        {
          "output_type": "execute_result",
          "data": {
            "text/plain": [
              "Date\n",
              "2016-01-01    0.300\n",
              "2016-02-01    0.308\n",
              "2016-03-01    0.193\n",
              "2016-04-01    0.193\n",
              "2016-05-01    0.283\n",
              "              ...  \n",
              "2022-06-01    1.600\n",
              "2022-07-01    2.298\n",
              "2022-08-01    2.860\n",
              "2022-09-01    3.180\n",
              "2022-10-01    3.975\n",
              "Name: Adj Close, Length: 82, dtype: float64"
            ]
          },
          "metadata": {},
          "execution_count": 5
        }
      ],
      "source": [
        "#Importamos la tasa del tesoro de estados unidos \n",
        "tasa = [\"^IRX\"]\n",
        "data = yf.download(tasa,start=\"2016-01-01\",end=\"2022-10-31\", interval=\"1mo\")\n",
        "data = data.loc[:,\"Adj Close\"].dropna()\n",
        "data"
      ]
    },
    {
      "cell_type": "code",
      "execution_count": 6,
      "metadata": {
        "colab": {
          "base_uri": "https://localhost:8080/",
          "height": 334
        },
        "id": "PPow8ZJXXkTZ",
        "outputId": "3dcfbdb3-bfd3-4fbb-da0e-d8851489cbfd"
      },
      "outputs": [
        {
          "output_type": "display_data",
          "data": {
            "text/plain": [
              "<Figure size 720x360 with 1 Axes>"
            ],
            "image/png": "[encoded data removed]"
          },
          "metadata": {
            "needs_background": "light"
          }
        }
      ],
      "source": [
        "#Grafica de la tasa \n",
        "data.plot(figsize=(10,5));"
      ]
    },
    {
      "cell_type": "code",
      "execution_count": 7,
      "metadata": {
        "colab": {
          "base_uri": "https://localhost:8080/"
        },
        "id": "tIuQJ1aNXtzn",
        "outputId": "c429281e-77cd-445e-be85-a3baacec395c"
      },
      "outputs": [
        {
          "output_type": "stream",
          "name": "stdout",
          "text": [
            "ADF test: -1.626009\n",
            "P-value: 0.469580\n",
            "Citical values:\n",
            "\t1%: -3.519481\n",
            "\t5%: -2.900395\n",
            "\t10%: -2.587498\n"
          ]
        }
      ],
      "source": [
        "#Prueba de dickey-fuller para determinar la estacionalidad \n",
        "pruebadf = adfuller(data)\n",
        "print(\"ADF test: %f\" % pruebadf[0])\n",
        "print(\"P-value: %f\" % pruebadf[1])\n",
        "print(\"Citical values:\")\n",
        "for key, value in pruebadf[4].items():\n",
        "  print(\"\\t%s: %f\" %(key,value))"
      ]
    },
    {
      "cell_type": "code",
      "execution_count": 8,
      "metadata": {
        "colab": {
          "base_uri": "https://localhost:8080/"
        },
        "id": "FqRyLpTCXztg",
        "outputId": "195972ca-d340-4133-b593-af78466087a2"
      },
      "outputs": [
        {
          "output_type": "execute_result",
          "data": {
            "text/plain": [
              "{'aic':            0           1           2\n",
              " 0        NaN  191.976413  125.597758\n",
              " 1  11.799970  -17.896368  -19.752936\n",
              " 2 -14.308155  -34.099406  -32.215007\n",
              " 3 -17.141923  -22.767447         NaN\n",
              " 4 -19.603389  -31.464392  -28.997381, 'aic_min_order': (2, 1)}"
            ]
          },
          "metadata": {},
          "execution_count": 8
        }
      ],
      "source": [
        "#ARMA\n",
        "resDiff = sm.tsa.arma_order_select_ic(data, ic='aic', trend=\"nc\")\n",
        "resDiff"
      ]
    },
    {
      "cell_type": "code",
      "source": [
        "ARIMA_01 = ARIMA(data, order=(2, 1, 1)).fit()\n",
        "print(ARIMA_01.summary());\n",
        "#ARIMA_01.params"
      ],
      "metadata": {
        "colab": {
          "base_uri": "https://localhost:8080/"
        },
        "id": "QZe2lzUS2oCJ",
        "outputId": "6db405a6-484e-405e-edc8-6fa3ed2e23c4"
      },
      "execution_count": 9,
      "outputs": [
        {
          "output_type": "stream",
          "name": "stdout",
          "text": [
            "                               SARIMAX Results                                \n",
            "==============================================================================\n",
            "Dep. Variable:              Adj Close   No. Observations:                   82\n",
            "Model:                 ARIMA(2, 1, 1)   Log Likelihood                  23.480\n",
            "Date:                Mon, 21 Nov 2022   AIC                            -38.961\n",
            "Time:                        01:04:48   BIC                            -29.383\n",
            "Sample:                    01-01-2016   HQIC                           -35.118\n",
            "                         - 10-01-2022                                         \n",
            "Covariance Type:                  opg                                         \n",
            "==============================================================================\n",
            "                 coef    std err          z      P>|z|      [0.025      0.975]\n",
            "------------------------------------------------------------------------------\n",
            "ar.L1          1.0111      0.285      3.548      0.000       0.452       1.570\n",
            "ar.L2         -0.0468      0.180     -0.260      0.795      -0.400       0.306\n",
            "ma.L1         -0.6586      0.299     -2.199      0.028      -1.245      -0.072\n",
            "sigma2         0.0323      0.002     13.114      0.000       0.027       0.037\n",
            "===================================================================================\n",
            "Ljung-Box (L1) (Q):                   0.00   Jarque-Bera (JB):              1014.90\n",
            "Prob(Q):                              0.98   Prob(JB):                         0.00\n",
            "Heteroskedasticity (H):               3.50   Skew:                            -2.25\n",
            "Prob(H) (two-sided):                  0.00   Kurtosis:                        19.75\n",
            "===================================================================================\n",
            "\n",
            "Warnings:\n",
            "[1] Covariance matrix calculated using the outer product of gradients (complex-step).\n"
          ]
        }
      ]
    },
    {
      "cell_type": "code",
      "source": [
        "# Ajuste del modelo\n",
        "fit_arima = ARIMA_01.predict()   # Ajuste del modelo\n",
        "plt.figure(figsize=(10, 5))\n",
        "plt.plot(data, label=\"Observado\")\n",
        "plt.plot(fit_arima, label=\"Ajustado\")\n",
        "plt.legend(loc=\"upper left\")\n",
        "plt.show()"
      ],
      "metadata": {
        "colab": {
          "base_uri": "https://localhost:8080/",
          "height": 320
        },
        "id": "vbWUruos22i1",
        "outputId": "b8dc4331-3211-4e41-f74a-96631373c2e5"
      },
      "execution_count": 10,
      "outputs": [
        {
          "output_type": "display_data",
          "data": {
            "text/plain": [
              "<Figure size 720x360 with 1 Axes>"
            ],
            "image/png": "[encoded data removed]"
          },
          "metadata": {
            "needs_background": "light"
          }
        }
      ]
    },
    {
      "cell_type": "code",
      "source": [
        "#Valores de la prediccion ARIMA \n",
        "predict_arima = ARIMA_01.forecast(12)\n",
        "predict_arima = pd.DataFrame(predict_arima.values)\n",
        "#print(predict_arima.iloc[-1,:])\n",
        "predict_arima"
      ],
      "metadata": {
        "colab": {
          "base_uri": "https://localhost:8080/",
          "height": 426
        },
        "id": "LkOqb24125qD",
        "outputId": "7ad25647-10fc-4c9d-d255-96ab6e17089a"
      },
      "execution_count": 11,
      "outputs": [
        {
          "output_type": "execute_result",
          "data": {
            "text/plain": [
              "           0\n",
              "0   4.489465\n",
              "1   4.972381\n",
              "2   5.436537\n",
              "3   5.883204\n",
              "4   6.313068\n",
              "5   6.726761\n",
              "6   7.124893\n",
              "7   7.508049\n",
              "8   7.876791\n",
              "9   8.231662\n",
              "10  8.573185\n",
              "11  8.901860"
            ],
            "text/html": [
              "\n",
              "  <div id=\"df-c92db875-2d23-48a9-b62d-5c3802515083\">\n",
              "    <div class=\"colab-df-container\">\n",
              "      <div>\n",
              "<style scoped>\n",
              "    .dataframe tbody tr th:only-of-type {\n",
              "        vertical-align: middle;\n",
              "    }\n",
              "\n",
              "    .dataframe tbody tr th {\n",
              "        vertical-align: top;\n",
              "    }\n",
              "\n",
              "    .dataframe thead th {\n",
              "        text-align: right;\n",
              "    }\n",
              "</style>\n",
              "<table border=\"1\" class=\"dataframe\">\n",
              "  <thead>\n",
              "    <tr style=\"text-align: right;\">\n",
              "      <th></th>\n",
              "      <th>0</th>\n",
              "    </tr>\n",
              "  </thead>\n",
              "  <tbody>\n",
              "    <tr>\n",
              "      <th>0</th>\n",
              "      <td>4.489465</td>\n",
              "    </tr>\n",
              "    <tr>\n",
              "      <th>1</th>\n",
              "      <td>4.972381</td>\n",
              "    </tr>\n",
              "    <tr>\n",
              "      <th>2</th>\n",
              "      <td>5.436537</td>\n",
              "    </tr>\n",
              "    <tr>\n",
              "      <th>3</th>\n",
              "      <td>5.883204</td>\n",
              "    </tr>\n",
              "    <tr>\n",
              "      <th>4</th>\n",
              "      <td>6.313068</td>\n",
              "    </tr>\n",
              "    <tr>\n",
              "      <th>5</th>\n",
              "      <td>6.726761</td>\n",
              "    </tr>\n",
              "    <tr>\n",
              "      <th>6</th>\n",
              "      <td>7.124893</td>\n",
              "    </tr>\n",
              "    <tr>\n",
              "      <th>7</th>\n",
              "      <td>7.508049</td>\n",
              "    </tr>\n",
              "    <tr>\n",
              "      <th>8</th>\n",
              "      <td>7.876791</td>\n",
              "    </tr>\n",
              "    <tr>\n",
              "      <th>9</th>\n",
              "      <td>8.231662</td>\n",
              "    </tr>\n",
              "    <tr>\n",
              "      <th>10</th>\n",
              "      <td>8.573185</td>\n",
              "    </tr>\n",
              "    <tr>\n",
              "      <th>11</th>\n",
              "      <td>8.901860</td>\n",
              "    </tr>\n",
              "  </tbody>\n",
              "</table>\n",
              "</div>\n",
              "      <button class=\"colab-df-convert\" onclick=\"convertToInteractive('df-c92db875-2d23-48a9-b62d-5c3802515083')\"\n",
              "              title=\"Convert this dataframe to an interactive table.\"\n",
              "              style=\"display:none;\">\n",
              "        \n",
              "  <svg xmlns=\"http://www.w3.org/2000/svg\" height=\"24px\"viewBox=\"0 0 24 24\"\n",
              "       width=\"24px\">\n",
              "    <path d=\"M0 0h24v24H0V0z\" fill=\"none\"/>\n",
              "    <path d=\"M18.56 5.44l.94 2.06.94-2.06 2.06-.94-2.06-.94-.94-2.06-.94 2.06-2.06.94zm-11 1L8.5 8.5l.94-2.06 2.06-.94-2.06-.94L8.5 2.5l-.94 2.06-2.06.94zm10 10l.94 2.06.94-2.06 2.06-.94-2.06-.94-.94-2.06-.94 2.06-2.06.94z\"/><path d=\"M17.41 7.96l-1.37-1.37c-.4-.4-.92-.59-1.43-.59-.52 0-1.04.2-1.43.59L10.3 9.45l-7.72 7.72c-.78.78-.78 2.05 0 2.83L4 21.41c.39.39.9.59 1.41.59.51 0 1.02-.2 1.41-.59l7.78-7.78 2.81-2.81c.8-.78.8-2.07 0-2.86zM5.41 20L4 18.59l7.72-7.72 1.47 1.35L5.41 20z\"/>\n",
              "  </svg>\n",
              "      </button>\n",
              "      \n",
              "  <style>\n",
              "    .colab-df-container {\n",
              "      display:flex;\n",
              "      flex-wrap:wrap;\n",
              "      gap: 12px;\n",
              "    }\n",
              "\n",
              "    .colab-df-convert {\n",
              "      background-color: #E8F0FE;\n",
              "      border: none;\n",
              "      border-radius: 50%;\n",
              "      cursor: pointer;\n",
              "      display: none;\n",
              "      fill: #1967D2;\n",
              "      height: 32px;\n",
              "      padding: 0 0 0 0;\n",
              "      width: 32px;\n",
              "    }\n",
              "\n",
              "    .colab-df-convert:hover {\n",
              "      background-color: #E2EBFA;\n",
              "      box-shadow: 0px 1px 2px rgba(60, 64, 67, 0.3), 0px 1px 3px 1px rgba(60, 64, 67, 0.15);\n",
              "      fill: #174EA6;\n",
              "    }\n",
              "\n",
              "    [theme=dark] .colab-df-convert {\n",
              "      background-color: #3B4455;\n",
              "      fill: #D2E3FC;\n",
              "    }\n",
              "\n",
              "    [theme=dark] .colab-df-convert:hover {\n",
              "      background-color: #434B5C;\n",
              "      box-shadow: 0px 1px 3px 1px rgba(0, 0, 0, 0.15);\n",
              "      filter: drop-shadow(0px 1px 2px rgba(0, 0, 0, 0.3));\n",
              "      fill: #FFFFFF;\n",
              "    }\n",
              "  </style>\n",
              "\n",
              "      <script>\n",
              "        const buttonEl =\n",
              "          document.querySelector('#df-c92db875-2d23-48a9-b62d-5c3802515083 button.colab-df-convert');\n",
              "        buttonEl.style.display =\n",
              "          google.colab.kernel.accessAllowed ? 'block' : 'none';\n",
              "\n",
              "        async function convertToInteractive(key) {\n",
              "          const element = document.querySelector('#df-c92db875-2d23-48a9-b62d-5c3802515083');\n",
              "          const dataTable =\n",
              "            await google.colab.kernel.invokeFunction('convertToInteractive',\n",
              "                                                     [key], {});\n",
              "          if (!dataTable) return;\n",
              "\n",
              "          const docLinkHtml = 'Like what you see? Visit the ' +\n",
              "            '<a target=\"_blank\" href=https://colab.research.google.com/notebooks/data_table.ipynb>data table notebook</a>'\n",
              "            + ' to learn more about interactive tables.';\n",
              "          element.innerHTML = '';\n",
              "          dataTable['output_type'] = 'display_data';\n",
              "          await google.colab.output.renderOutput(dataTable, element);\n",
              "          const docLink = document.createElement('div');\n",
              "          docLink.innerHTML = docLinkHtml;\n",
              "          element.appendChild(docLink);\n",
              "        }\n",
              "      </script>\n",
              "    </div>\n",
              "  </div>\n",
              "  "
            ]
          },
          "metadata": {},
          "execution_count": 11
        }
      ]
    },
    {
      "cell_type": "code",
      "source": [
        "#Tasas de reinversión\n",
        "z1 = np.array([1.044894])\n",
        "z2 = np.array([1.058832])\n",
        "z3 = np.array([1.071248])\n",
        "z4 = np.array([1.082316])\n",
        "\n",
        "#Tasa de créditos (DTF 90 días proyectada por bancolombia)\n",
        "rx = np.array([1.06])\n",
        "\n",
        "#Tasa de credito segunda opcion \n",
        "ry = np.array([1.006])\n"
      ],
      "metadata": {
        "id": "yVh9xwmMXn9V"
      },
      "execution_count": 12,
      "outputs": []
    },
    {
      "cell_type": "code",
      "source": [
        "b = np.array([100,-50,100,-50,100]) # 4 trimestres\n",
        "c = np.array([0,0,0,0,0,0,0,0,0,-1])\n",
        "A = np.array([[1,0,0, 1,0,0, -1,0,0,0],\n",
        "              [-rx,1,0, 0,1,0, z1,-1,0,0],\n",
        "              [0,-rx,1, -ry,0,1, 0,z2,-1,0],\n",
        "              [0,0,-rx, 0,-ry,0, 0,0,z3,-1],\n",
        "              [0,0,0, 0,0,-ry, 0,0,0,z4]])\n",
        "\n",
        "n = len(c) \n",
        "x = cp.Variable(n) \n",
        "\n",
        "objective = cp.Maximize(c.T @ x )\n",
        "constraints = [A @ x == b, x>=0]\n",
        "prob = cp.Problem(objective, constraints)\n",
        "\n",
        "result = prob.solve()\n",
        "sol = round(pd.DataFrame(x.value),4)\n",
        "sol"
      ],
      "metadata": {
        "id": "sK_CWt_rXo3x",
        "colab": {
          "base_uri": "https://localhost:8080/",
          "height": 363
        },
        "outputId": "16ce36e1-149f-4014-a691-00a9d12cb159"
      },
      "execution_count": 13,
      "outputs": [
        {
          "output_type": "execute_result",
          "data": {
            "text/plain": [
              "           0\n",
              "0   138.7804\n",
              "1    30.7340\n",
              "2   117.5859\n",
              "3   726.4957\n",
              "4  1047.0536\n",
              "5     0.0000\n",
              "6   765.2761\n",
              "7  1780.3128\n",
              "8  1139.2053\n",
              "9    92.3945"
            ],
            "text/html": [
              "\n",
              "  <div id=\"df-31fb311f-9819-491b-8241-543b1b0a4996\">\n",
              "    <div class=\"colab-df-container\">\n",
              "      <div>\n",
              "<style scoped>\n",
              "    .dataframe tbody tr th:only-of-type {\n",
              "        vertical-align: middle;\n",
              "    }\n",
              "\n",
              "    .dataframe tbody tr th {\n",
              "        vertical-align: top;\n",
              "    }\n",
              "\n",
              "    .dataframe thead th {\n",
              "        text-align: right;\n",
              "    }\n",
              "</style>\n",
              "<table border=\"1\" class=\"dataframe\">\n",
              "  <thead>\n",
              "    <tr style=\"text-align: right;\">\n",
              "      <th></th>\n",
              "      <th>0</th>\n",
              "    </tr>\n",
              "  </thead>\n",
              "  <tbody>\n",
              "    <tr>\n",
              "      <th>0</th>\n",
              "      <td>138.7804</td>\n",
              "    </tr>\n",
              "    <tr>\n",
              "      <th>1</th>\n",
              "      <td>30.7340</td>\n",
              "    </tr>\n",
              "    <tr>\n",
              "      <th>2</th>\n",
              "      <td>117.5859</td>\n",
              "    </tr>\n",
              "    <tr>\n",
              "      <th>3</th>\n",
              "      <td>726.4957</td>\n",
              "    </tr>\n",
              "    <tr>\n",
              "      <th>4</th>\n",
              "      <td>1047.0536</td>\n",
              "    </tr>\n",
              "    <tr>\n",
              "      <th>5</th>\n",
              "      <td>0.0000</td>\n",
              "    </tr>\n",
              "    <tr>\n",
              "      <th>6</th>\n",
              "      <td>765.2761</td>\n",
              "    </tr>\n",
              "    <tr>\n",
              "      <th>7</th>\n",
              "      <td>1780.3128</td>\n",
              "    </tr>\n",
              "    <tr>\n",
              "      <th>8</th>\n",
              "      <td>1139.2053</td>\n",
              "    </tr>\n",
              "    <tr>\n",
              "      <th>9</th>\n",
              "      <td>92.3945</td>\n",
              "    </tr>\n",
              "  </tbody>\n",
              "</table>\n",
              "</div>\n",
              "      <button class=\"colab-df-convert\" onclick=\"convertToInteractive('df-31fb311f-9819-491b-8241-543b1b0a4996')\"\n",
              "              title=\"Convert this dataframe to an interactive table.\"\n",
              "              style=\"display:none;\">\n",
              "        \n",
              "  <svg xmlns=\"http://www.w3.org/2000/svg\" height=\"24px\"viewBox=\"0 0 24 24\"\n",
              "       width=\"24px\">\n",
              "    <path d=\"M0 0h24v24H0V0z\" fill=\"none\"/>\n",
              "    <path d=\"M18.56 5.44l.94 2.06.94-2.06 2.06-.94-2.06-.94-.94-2.06-.94 2.06-2.06.94zm-11 1L8.5 8.5l.94-2.06 2.06-.94-2.06-.94L8.5 2.5l-.94 2.06-2.06.94zm10 10l.94 2.06.94-2.06 2.06-.94-2.06-.94-.94-2.06-.94 2.06-2.06.94z\"/><path d=\"M17.41 7.96l-1.37-1.37c-.4-.4-.92-.59-1.43-.59-.52 0-1.04.2-1.43.59L10.3 9.45l-7.72 7.72c-.78.78-.78 2.05 0 2.83L4 21.41c.39.39.9.59 1.41.59.51 0 1.02-.2 1.41-.59l7.78-7.78 2.81-2.81c.8-.78.8-2.07 0-2.86zM5.41 20L4 18.59l7.72-7.72 1.47 1.35L5.41 20z\"/>\n",
              "  </svg>\n",
              "      </button>\n",
              "      \n",
              "  <style>\n",
              "    .colab-df-container {\n",
              "      display:flex;\n",
              "      flex-wrap:wrap;\n",
              "      gap: 12px;\n",
              "    }\n",
              "\n",
              "    .colab-df-convert {\n",
              "      background-color: #E8F0FE;\n",
              "      border: none;\n",
              "      border-radius: 50%;\n",
              "      cursor: pointer;\n",
              "      display: none;\n",
              "      fill: #1967D2;\n",
              "      height: 32px;\n",
              "      padding: 0 0 0 0;\n",
              "      width: 32px;\n",
              "    }\n",
              "\n",
              "    .colab-df-convert:hover {\n",
              "      background-color: #E2EBFA;\n",
              "      box-shadow: 0px 1px 2px rgba(60, 64, 67, 0.3), 0px 1px 3px 1px rgba(60, 64, 67, 0.15);\n",
              "      fill: #174EA6;\n",
              "    }\n",
              "\n",
              "    [theme=dark] .colab-df-convert {\n",
              "      background-color: #3B4455;\n",
              "      fill: #D2E3FC;\n",
              "    }\n",
              "\n",
              "    [theme=dark] .colab-df-convert:hover {\n",
              "      background-color: #434B5C;\n",
              "      box-shadow: 0px 1px 3px 1px rgba(0, 0, 0, 0.15);\n",
              "      filter: drop-shadow(0px 1px 2px rgba(0, 0, 0, 0.3));\n",
              "      fill: #FFFFFF;\n",
              "    }\n",
              "  </style>\n",
              "\n",
              "      <script>\n",
              "        const buttonEl =\n",
              "          document.querySelector('#df-31fb311f-9819-491b-8241-543b1b0a4996 button.colab-df-convert');\n",
              "        buttonEl.style.display =\n",
              "          google.colab.kernel.accessAllowed ? 'block' : 'none';\n",
              "\n",
              "        async function convertToInteractive(key) {\n",
              "          const element = document.querySelector('#df-31fb311f-9819-491b-8241-543b1b0a4996');\n",
              "          const dataTable =\n",
              "            await google.colab.kernel.invokeFunction('convertToInteractive',\n",
              "                                                     [key], {});\n",
              "          if (!dataTable) return;\n",
              "\n",
              "          const docLinkHtml = 'Like what you see? Visit the ' +\n",
              "            '<a target=\"_blank\" href=https://colab.research.google.com/notebooks/data_table.ipynb>data table notebook</a>'\n",
              "            + ' to learn more about interactive tables.';\n",
              "          element.innerHTML = '';\n",
              "          dataTable['output_type'] = 'display_data';\n",
              "          await google.colab.output.renderOutput(dataTable, element);\n",
              "          const docLink = document.createElement('div');\n",
              "          docLink.innerHTML = docLinkHtml;\n",
              "          element.appendChild(docLink);\n",
              "        }\n",
              "      </script>\n",
              "    </div>\n",
              "  </div>\n",
              "  "
            ]
          },
          "metadata": {},
          "execution_count": 13
        }
      ]
    },
    {
      "cell_type": "markdown",
      "source": [
        "Tenemos una empresa que busca maximizar el exceso de capital de unos recursos pedidos al mercado, se tiene la opcion de pedir a dos tasas diferentes y los excesos seran invertidos en los bonos TES proyectados en el punto anterior. "
      ],
      "metadata": {
        "id": "3SPeHLi6X-f-"
      }
    },
    {
      "cell_type": "code",
      "source": [
        "#Grafica de la distribucion de la tasa \n",
        "tasa = [\"^IRX\"]\n",
        "data = yf.download(tasa,start=\"2016-01-01\",end=\"2022-10-31\", interval=\"1mo\")\n",
        "data = data.loc[:,\"Adj Close\"].dropna()\n",
        "plt.hist(data,bins=30)\n",
        "plt.show()"
      ],
      "metadata": {
        "colab": {
          "base_uri": "https://localhost:8080/",
          "height": 282
        },
        "id": "xlZwdQY0GD47",
        "outputId": "56d9814f-b4f6-480c-a499-66fcdca00ff3"
      },
      "execution_count": 14,
      "outputs": [
        {
          "output_type": "stream",
          "name": "stdout",
          "text": [
            "\r[*********************100%***********************]  1 of 1 completed\n"
          ]
        },
        {
          "output_type": "display_data",
          "data": {
            "text/plain": [
              "<Figure size 432x288 with 1 Axes>"
            ],
            "image/png": "[encoded data removed]"
          },
          "metadata": {
            "needs_background": "light"
          }
        }
      ]
    },
    {
      "cell_type": "code",
      "source": [
        "#Identificacion del tipo de distribucion de la tasa por metodo de errores cuadrados \n",
        "fa = Fitter(data, distributions= get_common_distributions())\n",
        "fa.fit()\n",
        "fa.summary()"
      ],
      "metadata": {
        "colab": {
          "base_uri": "https://localhost:8080/",
          "height": 471
        },
        "id": "Jj21H3bsJ2AP",
        "outputId": "5f9f6f43-3154-4573-c98b-12ca7cc7f895"
      },
      "execution_count": 15,
      "outputs": [
        {
          "output_type": "stream",
          "name": "stderr",
          "text": [
            "Fitting 10 distributions: 100%|██████████| 10/10 [00:00<00:00, 10.99it/s]\n"
          ]
        },
        {
          "output_type": "execute_result",
          "data": {
            "text/plain": [
              "          sumsquare_error         aic         bic  kl_div  ks_statistic  \\\n",
              "chi2            10.449361  413.637258 -155.714473     inf      0.137907   \n",
              "powerlaw        10.610287  331.881300 -154.461251     inf      0.186296   \n",
              "gamma           11.273563  476.201075 -149.489063     inf      0.227042   \n",
              "exponpow        11.538684  408.492952 -147.582996     inf      0.132509   \n",
              "lognorm         11.980423  450.816530 -144.502359     inf      0.168262   \n",
              "\n",
              "          ks_pvalue  \n",
              "chi2       0.080216  \n",
              "powerlaw   0.005782  \n",
              "gamma      0.000339  \n",
              "exponpow   0.102414  \n",
              "lognorm    0.016908  "
            ],
            "text/html": [
              "\n",
              "  <div id=\"df-44bad70f-a009-4134-a6f8-06bebf52c7be\">\n",
              "    <div class=\"colab-df-container\">\n",
              "      <div>\n",
              "<style scoped>\n",
              "    .dataframe tbody tr th:only-of-type {\n",
              "        vertical-align: middle;\n",
              "    }\n",
              "\n",
              "    .dataframe tbody tr th {\n",
              "        vertical-align: top;\n",
              "    }\n",
              "\n",
              "    .dataframe thead th {\n",
              "        text-align: right;\n",
              "    }\n",
              "</style>\n",
              "<table border=\"1\" class=\"dataframe\">\n",
              "  <thead>\n",
              "    <tr style=\"text-align: right;\">\n",
              "      <th></th>\n",
              "      <th>sumsquare_error</th>\n",
              "      <th>aic</th>\n",
              "      <th>bic</th>\n",
              "      <th>kl_div</th>\n",
              "      <th>ks_statistic</th>\n",
              "      <th>ks_pvalue</th>\n",
              "    </tr>\n",
              "  </thead>\n",
              "  <tbody>\n",
              "    <tr>\n",
              "      <th>chi2</th>\n",
              "      <td>10.449361</td>\n",
              "      <td>413.637258</td>\n",
              "      <td>-155.714473</td>\n",
              "      <td>inf</td>\n",
              "      <td>0.137907</td>\n",
              "      <td>0.080216</td>\n",
              "    </tr>\n",
              "    <tr>\n",
              "      <th>powerlaw</th>\n",
              "      <td>10.610287</td>\n",
              "      <td>331.881300</td>\n",
              "      <td>-154.461251</td>\n",
              "      <td>inf</td>\n",
              "      <td>0.186296</td>\n",
              "      <td>0.005782</td>\n",
              "    </tr>\n",
              "    <tr>\n",
              "      <th>gamma</th>\n",
              "      <td>11.273563</td>\n",
              "      <td>476.201075</td>\n",
              "      <td>-149.489063</td>\n",
              "      <td>inf</td>\n",
              "      <td>0.227042</td>\n",
              "      <td>0.000339</td>\n",
              "    </tr>\n",
              "    <tr>\n",
              "      <th>exponpow</th>\n",
              "      <td>11.538684</td>\n",
              "      <td>408.492952</td>\n",
              "      <td>-147.582996</td>\n",
              "      <td>inf</td>\n",
              "      <td>0.132509</td>\n",
              "      <td>0.102414</td>\n",
              "    </tr>\n",
              "    <tr>\n",
              "      <th>lognorm</th>\n",
              "      <td>11.980423</td>\n",
              "      <td>450.816530</td>\n",
              "      <td>-144.502359</td>\n",
              "      <td>inf</td>\n",
              "      <td>0.168262</td>\n",
              "      <td>0.016908</td>\n",
              "    </tr>\n",
              "  </tbody>\n",
              "</table>\n",
              "</div>\n",
              "      <button class=\"colab-df-convert\" onclick=\"convertToInteractive('df-44bad70f-a009-4134-a6f8-06bebf52c7be')\"\n",
              "              title=\"Convert this dataframe to an interactive table.\"\n",
              "              style=\"display:none;\">\n",
              "        \n",
              "  <svg xmlns=\"http://www.w3.org/2000/svg\" height=\"24px\"viewBox=\"0 0 24 24\"\n",
              "       width=\"24px\">\n",
              "    <path d=\"M0 0h24v24H0V0z\" fill=\"none\"/>\n",
              "    <path d=\"M18.56 5.44l.94 2.06.94-2.06 2.06-.94-2.06-.94-.94-2.06-.94 2.06-2.06.94zm-11 1L8.5 8.5l.94-2.06 2.06-.94-2.06-.94L8.5 2.5l-.94 2.06-2.06.94zm10 10l.94 2.06.94-2.06 2.06-.94-2.06-.94-.94-2.06-.94 2.06-2.06.94z\"/><path d=\"M17.41 7.96l-1.37-1.37c-.4-.4-.92-.59-1.43-.59-.52 0-1.04.2-1.43.59L10.3 9.45l-7.72 7.72c-.78.78-.78 2.05 0 2.83L4 21.41c.39.39.9.59 1.41.59.51 0 1.02-.2 1.41-.59l7.78-7.78 2.81-2.81c.8-.78.8-2.07 0-2.86zM5.41 20L4 18.59l7.72-7.72 1.47 1.35L5.41 20z\"/>\n",
              "  </svg>\n",
              "      </button>\n",
              "      \n",
              "  <style>\n",
              "    .colab-df-container {\n",
              "      display:flex;\n",
              "      flex-wrap:wrap;\n",
              "      gap: 12px;\n",
              "    }\n",
              "\n",
              "    .colab-df-convert {\n",
              "      background-color: #E8F0FE;\n",
              "      border: none;\n",
              "      border-radius: 50%;\n",
              "      cursor: pointer;\n",
              "      display: none;\n",
              "      fill: #1967D2;\n",
              "      height: 32px;\n",
              "      padding: 0 0 0 0;\n",
              "      width: 32px;\n",
              "    }\n",
              "\n",
              "    .colab-df-convert:hover {\n",
              "      background-color: #E2EBFA;\n",
              "      box-shadow: 0px 1px 2px rgba(60, 64, 67, 0.3), 0px 1px 3px 1px rgba(60, 64, 67, 0.15);\n",
              "      fill: #174EA6;\n",
              "    }\n",
              "\n",
              "    [theme=dark] .colab-df-convert {\n",
              "      background-color: #3B4455;\n",
              "      fill: #D2E3FC;\n",
              "    }\n",
              "\n",
              "    [theme=dark] .colab-df-convert:hover {\n",
              "      background-color: #434B5C;\n",
              "      box-shadow: 0px 1px 3px 1px rgba(0, 0, 0, 0.15);\n",
              "      filter: drop-shadow(0px 1px 2px rgba(0, 0, 0, 0.3));\n",
              "      fill: #FFFFFF;\n",
              "    }\n",
              "  </style>\n",
              "\n",
              "      <script>\n",
              "        const buttonEl =\n",
              "          document.querySelector('#df-44bad70f-a009-4134-a6f8-06bebf52c7be button.colab-df-convert');\n",
              "        buttonEl.style.display =\n",
              "          google.colab.kernel.accessAllowed ? 'block' : 'none';\n",
              "\n",
              "        async function convertToInteractive(key) {\n",
              "          const element = document.querySelector('#df-44bad70f-a009-4134-a6f8-06bebf52c7be');\n",
              "          const dataTable =\n",
              "            await google.colab.kernel.invokeFunction('convertToInteractive',\n",
              "                                                     [key], {});\n",
              "          if (!dataTable) return;\n",
              "\n",
              "          const docLinkHtml = 'Like what you see? Visit the ' +\n",
              "            '<a target=\"_blank\" href=https://colab.research.google.com/notebooks/data_table.ipynb>data table notebook</a>'\n",
              "            + ' to learn more about interactive tables.';\n",
              "          element.innerHTML = '';\n",
              "          dataTable['output_type'] = 'display_data';\n",
              "          await google.colab.output.renderOutput(dataTable, element);\n",
              "          const docLink = document.createElement('div');\n",
              "          docLink.innerHTML = docLinkHtml;\n",
              "          element.appendChild(docLink);\n",
              "        }\n",
              "      </script>\n",
              "    </div>\n",
              "  </div>\n",
              "  "
            ]
          },
          "metadata": {},
          "execution_count": 15
        },
        {
          "output_type": "display_data",
          "data": {
            "text/plain": [
              "<Figure size 432x288 with 1 Axes>"
            ],
            "image/png": "[encoded data removed]"
          },
          "metadata": {
            "needs_background": "light"
          }
        }
      ]
    },
    {
      "cell_type": "code",
      "source": [
        "fa.get_best(method = 'sumsquare_error')"
      ],
      "metadata": {
        "colab": {
          "base_uri": "https://localhost:8080/"
        },
        "id": "fTm2qyGUoDa0",
        "outputId": "068458f8-36cc-474d-c337-8c2c05b5f96e"
      },
      "execution_count": 16,
      "outputs": [
        {
          "output_type": "execute_result",
          "data": {
            "text/plain": [
              "{'chi2': {'df': 1.3236228090026692,\n",
              "  'loc': 0.0030000000260770317,\n",
              "  'scale': 0.7423897643886284}}"
            ]
          },
          "metadata": {},
          "execution_count": 16
        }
      ]
    },
    {
      "cell_type": "markdown",
      "source": [
        "Usando el críterio del estadístico Kolmogorov-Smirnov se puede seleccionar una distribución Chi-Square con parámetros 'loc': 0.0030 y 'scale': 0.7423"
      ],
      "metadata": {
        "id": "tYlmDoCmt14E"
      }
    },
    {
      "cell_type": "markdown",
      "source": [
        "Se constuyeron 100 trayectorias o simulaciones para la tasa (IRX) con periodicidad mensual y con duración T=1.\n"
      ],
      "metadata": {
        "id": "oNmokQZ6ui3T"
      }
    },
    {
      "cell_type": "code",
      "source": [
        "tasa = [\"^IRX\"]\n",
        "data = yf.download(tasa,start=\"2016-01-01\",end=\"2022-10-31\", interval=\"1mo\")\n",
        "data = data.loc[:,\"Adj Close\"].dropna()\n",
        "retornos = np.log(data/data.shift(1)).dropna()\n",
        "mu = retornos.mean()\n",
        "sigma = retornos.std()\n"
      ],
      "metadata": {
        "colab": {
          "base_uri": "https://localhost:8080/"
        },
        "id": "3HrTX7KPskHX",
        "outputId": "851a78b1-87d2-4e82-fa6b-c25873df67dd"
      },
      "execution_count": 17,
      "outputs": [
        {
          "output_type": "stream",
          "name": "stdout",
          "text": [
            "\r[*********************100%***********************]  1 of 1 completed\n"
          ]
        }
      ]
    },
    {
      "cell_type": "code",
      "source": [
        "T = 1           # Un año\n",
        "steps = 12    # Simulación mensual\n",
        "k = 2.8         \n",
        "NS = 10000      \n",
        "y0 = data[-1]   \n",
        "t = np.linspace(0,T,steps)  \n",
        "dt = np.mean(np.diff(t))\n",
        "drift = lambda y,t: k*(mu-y) \n",
        "diffusion = lambda y,t: sigma \n",
        "noise = np.random.normal(0,1,[steps,NS])*np.sqrt(dt) \n",
        "y = np.zeros([steps,NS])\n",
        "y[0,:] = y0\n",
        "\n",
        "for i in range(1,steps):\n",
        " y[i,:] = y[i-1] + drift(y[i-1],i*dt)*dt + diffusion(y[i-1],i*dt)*noise[i,:]\n",
        "\n",
        "plt.plot(t,y[:,1:50])"
      ],
      "metadata": {
        "colab": {
          "base_uri": "https://localhost:8080/",
          "height": 1000
        },
        "id": "g5nlXJYO1raK",
        "outputId": "04b34ae5-7df3-4495-8343-d78c11697d85"
      },
      "execution_count": 21,
      "outputs": [
        {
          "output_type": "execute_result",
          "data": {
            "text/plain": [
              "[<matplotlib.lines.Line2D at 0x7fdee5128c50>,\n",
              " <matplotlib.lines.Line2D at 0x7fdee5128e90>,\n",
              " <matplotlib.lines.Line2D at 0x7fdee50b1090>,\n",
              " <matplotlib.lines.Line2D at 0x7fdee50b1250>,\n",
              " <matplotlib.lines.Line2D at 0x7fdee50b1410>,\n",
              " <matplotlib.lines.Line2D at 0x7fdee50b15d0>,\n",
              " <matplotlib.lines.Line2D at 0x7fdee50b1810>,\n",
              " <matplotlib.lines.Line2D at 0x7fdee50b19d0>,\n",
              " <matplotlib.lines.Line2D at 0x7fdee50b1b90>,\n",
              " <matplotlib.lines.Line2D at 0x7fdee50b1610>,\n",
              " <matplotlib.lines.Line2D at 0x7fdee5128c90>,\n",
              " <matplotlib.lines.Line2D at 0x7fdee50b1fd0>,\n",
              " <matplotlib.lines.Line2D at 0x7fdee50b5210>,\n",
              " <matplotlib.lines.Line2D at 0x7fdee50b53d0>,\n",
              " <matplotlib.lines.Line2D at 0x7fdee50b5590>,\n",
              " <matplotlib.lines.Line2D at 0x7fdee50b5750>,\n",
              " <matplotlib.lines.Line2D at 0x7fdee50b5910>,\n",
              " <matplotlib.lines.Line2D at 0x7fdee50b5ad0>,\n",
              " <matplotlib.lines.Line2D at 0x7fdee50b5c90>,\n",
              " <matplotlib.lines.Line2D at 0x7fdee50b5e50>,\n",
              " <matplotlib.lines.Line2D at 0x7fdee50b5fd0>,\n",
              " <matplotlib.lines.Line2D at 0x7fdee50b8210>,\n",
              " <matplotlib.lines.Line2D at 0x7fdee50b83d0>,\n",
              " <matplotlib.lines.Line2D at 0x7fdee50b8590>,\n",
              " <matplotlib.lines.Line2D at 0x7fdee50b8750>,\n",
              " <matplotlib.lines.Line2D at 0x7fdee50b8910>,\n",
              " <matplotlib.lines.Line2D at 0x7fdee50b8ad0>,\n",
              " <matplotlib.lines.Line2D at 0x7fdee50b8c90>,\n",
              " <matplotlib.lines.Line2D at 0x7fdee50b8e50>,\n",
              " <matplotlib.lines.Line2D at 0x7fdee50b8fd0>,\n",
              " <matplotlib.lines.Line2D at 0x7fdee50bd210>,\n",
              " <matplotlib.lines.Line2D at 0x7fdee50bd3d0>,\n",
              " <matplotlib.lines.Line2D at 0x7fdee50bd590>,\n",
              " <matplotlib.lines.Line2D at 0x7fdee50bd750>,\n",
              " <matplotlib.lines.Line2D at 0x7fdee50bd910>,\n",
              " <matplotlib.lines.Line2D at 0x7fdee50bdad0>,\n",
              " <matplotlib.lines.Line2D at 0x7fdee50bdc90>,\n",
              " <matplotlib.lines.Line2D at 0x7fdee50bde50>,\n",
              " <matplotlib.lines.Line2D at 0x7fdee50bdfd0>,\n",
              " <matplotlib.lines.Line2D at 0x7fdee50c1210>,\n",
              " <matplotlib.lines.Line2D at 0x7fdee50c13d0>,\n",
              " <matplotlib.lines.Line2D at 0x7fdee50c1590>,\n",
              " <matplotlib.lines.Line2D at 0x7fdee50c1750>,\n",
              " <matplotlib.lines.Line2D at 0x7fdee50c1910>,\n",
              " <matplotlib.lines.Line2D at 0x7fdee50c1ad0>,\n",
              " <matplotlib.lines.Line2D at 0x7fdee50c1c90>,\n",
              " <matplotlib.lines.Line2D at 0x7fdee50c1e50>,\n",
              " <matplotlib.lines.Line2D at 0x7fdee50c1fd0>,\n",
              " <matplotlib.lines.Line2D at 0x7fdee50c6210>]"
            ]
          },
          "metadata": {},
          "execution_count": 21
        },
        {
          "output_type": "display_data",
          "data": {
            "text/plain": [
              "<Figure size 432x288 with 1 Axes>"
            ],
            "image/png": "[encoded data removed]"
          },
          "metadata": {
            "needs_background": "light"
          }
        }
      ]
    }
  ],
  "metadata": {
    "colab": {
      "provenance": [],
      "include_colab_link": true
    },
    "kernelspec": {
      "display_name": "Python 3",
      "name": "python3"
    },
    "language_info": {
      "name": "python"
    }
  },
  "nbformat": 4,
  "nbformat_minor": 0
}